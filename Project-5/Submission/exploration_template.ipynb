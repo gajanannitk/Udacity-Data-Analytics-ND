{
 "cells": [
  {
   "cell_type": "markdown",
   "metadata": {},
   "source": [
    "# Titanic Dataset Exploration\n",
    "## by Sayan Chakraborty\n",
    "\n",
    "## Preliminary Wrangling\n",
    "\n",
    "> This analysis will contain an analysis of the tragic titanic event of 1912. The whole dataset is divided into 2 parts. The training and testing data. In general these are data for building a machine learning model. But in my case I will be doing a visualization of the analysis to come up with some idea on the tragic event without applying any regression models or any ML algorithms to do any kind of predictive analysis, since that is out of scope right now. "
   ]
  },
  {
   "cell_type": "code",
   "execution_count": 1,
   "metadata": {},
   "outputs": [],
   "source": [
    "# import all packages and set plots to be embedded inline\n",
    "import numpy as np\n",
    "import pandas as pd\n",
    "import matplotlib.pyplot as plt\n",
    "import seaborn as sns\n",
    "\n",
    "%matplotlib inline"
   ]
  },
  {
   "cell_type": "markdown",
   "metadata": {},
   "source": [
    "> Load in your dataset and describe its properties through the questions below.\n",
    "Try and motivate your exploration goals through this section."
   ]
  },
  {
   "cell_type": "code",
   "execution_count": 2,
   "metadata": {},
   "outputs": [],
   "source": [
    "# in general we have 2 data files, divided into training and testing data.\n",
    "# I will be looking at both the files for now. But in general since a predictive analysis is out of scope\n",
    "# right now, I will be leaving out the testing data for doing a predictive analysis.\n",
    "\n",
    "df_train = pd.read_csv('Dataset/titanic/train.csv')"
   ]
  },
  {
   "cell_type": "code",
   "execution_count": 3,
   "metadata": {},
   "outputs": [
    {
     "data": {
      "text/html": [
       "<div>\n",
       "<style scoped>\n",
       "    .dataframe tbody tr th:only-of-type {\n",
       "        vertical-align: middle;\n",
       "    }\n",
       "\n",
       "    .dataframe tbody tr th {\n",
       "        vertical-align: top;\n",
       "    }\n",
       "\n",
       "    .dataframe thead th {\n",
       "        text-align: right;\n",
       "    }\n",
       "</style>\n",
       "<table border=\"1\" class=\"dataframe\">\n",
       "  <thead>\n",
       "    <tr style=\"text-align: right;\">\n",
       "      <th></th>\n",
       "      <th>PassengerId</th>\n",
       "      <th>Survived</th>\n",
       "      <th>Pclass</th>\n",
       "      <th>Name</th>\n",
       "      <th>Sex</th>\n",
       "      <th>Age</th>\n",
       "      <th>SibSp</th>\n",
       "      <th>Parch</th>\n",
       "      <th>Ticket</th>\n",
       "      <th>Fare</th>\n",
       "      <th>Cabin</th>\n",
       "      <th>Embarked</th>\n",
       "    </tr>\n",
       "  </thead>\n",
       "  <tbody>\n",
       "    <tr>\n",
       "      <th>0</th>\n",
       "      <td>1</td>\n",
       "      <td>0</td>\n",
       "      <td>3</td>\n",
       "      <td>Braund, Mr. Owen Harris</td>\n",
       "      <td>male</td>\n",
       "      <td>22.0</td>\n",
       "      <td>1</td>\n",
       "      <td>0</td>\n",
       "      <td>A/5 21171</td>\n",
       "      <td>7.2500</td>\n",
       "      <td>NaN</td>\n",
       "      <td>S</td>\n",
       "    </tr>\n",
       "    <tr>\n",
       "      <th>1</th>\n",
       "      <td>2</td>\n",
       "      <td>1</td>\n",
       "      <td>1</td>\n",
       "      <td>Cumings, Mrs. John Bradley (Florence Briggs Th...</td>\n",
       "      <td>female</td>\n",
       "      <td>38.0</td>\n",
       "      <td>1</td>\n",
       "      <td>0</td>\n",
       "      <td>PC 17599</td>\n",
       "      <td>71.2833</td>\n",
       "      <td>C85</td>\n",
       "      <td>C</td>\n",
       "    </tr>\n",
       "    <tr>\n",
       "      <th>2</th>\n",
       "      <td>3</td>\n",
       "      <td>1</td>\n",
       "      <td>3</td>\n",
       "      <td>Heikkinen, Miss. Laina</td>\n",
       "      <td>female</td>\n",
       "      <td>26.0</td>\n",
       "      <td>0</td>\n",
       "      <td>0</td>\n",
       "      <td>STON/O2. 3101282</td>\n",
       "      <td>7.9250</td>\n",
       "      <td>NaN</td>\n",
       "      <td>S</td>\n",
       "    </tr>\n",
       "    <tr>\n",
       "      <th>3</th>\n",
       "      <td>4</td>\n",
       "      <td>1</td>\n",
       "      <td>1</td>\n",
       "      <td>Futrelle, Mrs. Jacques Heath (Lily May Peel)</td>\n",
       "      <td>female</td>\n",
       "      <td>35.0</td>\n",
       "      <td>1</td>\n",
       "      <td>0</td>\n",
       "      <td>113803</td>\n",
       "      <td>53.1000</td>\n",
       "      <td>C123</td>\n",
       "      <td>S</td>\n",
       "    </tr>\n",
       "    <tr>\n",
       "      <th>4</th>\n",
       "      <td>5</td>\n",
       "      <td>0</td>\n",
       "      <td>3</td>\n",
       "      <td>Allen, Mr. William Henry</td>\n",
       "      <td>male</td>\n",
       "      <td>35.0</td>\n",
       "      <td>0</td>\n",
       "      <td>0</td>\n",
       "      <td>373450</td>\n",
       "      <td>8.0500</td>\n",
       "      <td>NaN</td>\n",
       "      <td>S</td>\n",
       "    </tr>\n",
       "  </tbody>\n",
       "</table>\n",
       "</div>"
      ],
      "text/plain": [
       "   PassengerId  Survived  Pclass  \\\n",
       "0            1         0       3   \n",
       "1            2         1       1   \n",
       "2            3         1       3   \n",
       "3            4         1       1   \n",
       "4            5         0       3   \n",
       "\n",
       "                                                Name     Sex   Age  SibSp  \\\n",
       "0                            Braund, Mr. Owen Harris    male  22.0      1   \n",
       "1  Cumings, Mrs. John Bradley (Florence Briggs Th...  female  38.0      1   \n",
       "2                             Heikkinen, Miss. Laina  female  26.0      0   \n",
       "3       Futrelle, Mrs. Jacques Heath (Lily May Peel)  female  35.0      1   \n",
       "4                           Allen, Mr. William Henry    male  35.0      0   \n",
       "\n",
       "   Parch            Ticket     Fare Cabin Embarked  \n",
       "0      0         A/5 21171   7.2500   NaN        S  \n",
       "1      0          PC 17599  71.2833   C85        C  \n",
       "2      0  STON/O2. 3101282   7.9250   NaN        S  \n",
       "3      0            113803  53.1000  C123        S  \n",
       "4      0            373450   8.0500   NaN        S  "
      ]
     },
     "execution_count": 3,
     "metadata": {},
     "output_type": "execute_result"
    }
   ],
   "source": [
    "# looking at the data\n",
    "df_train.head()"
   ]
  },
  {
   "cell_type": "code",
   "execution_count": 4,
   "metadata": {},
   "outputs": [
    {
     "name": "stdout",
     "output_type": "stream",
     "text": [
      "<class 'pandas.core.frame.DataFrame'>\n",
      "RangeIndex: 891 entries, 0 to 890\n",
      "Data columns (total 12 columns):\n",
      " #   Column       Non-Null Count  Dtype  \n",
      "---  ------       --------------  -----  \n",
      " 0   PassengerId  891 non-null    int64  \n",
      " 1   Survived     891 non-null    int64  \n",
      " 2   Pclass       891 non-null    int64  \n",
      " 3   Name         891 non-null    object \n",
      " 4   Sex          891 non-null    object \n",
      " 5   Age          714 non-null    float64\n",
      " 6   SibSp        891 non-null    int64  \n",
      " 7   Parch        891 non-null    int64  \n",
      " 8   Ticket       891 non-null    object \n",
      " 9   Fare         891 non-null    float64\n",
      " 10  Cabin        204 non-null    object \n",
      " 11  Embarked     889 non-null    object \n",
      "dtypes: float64(2), int64(5), object(5)\n",
      "memory usage: 83.7+ KB\n"
     ]
    }
   ],
   "source": [
    "# getting an info of the data:\n",
    "df_train.info()"
   ]
  },
  {
   "cell_type": "code",
   "execution_count": 5,
   "metadata": {},
   "outputs": [
    {
     "data": {
      "text/plain": [
       "Index(['PassengerId', 'Survived', 'Pclass', 'Name', 'Sex', 'Age', 'SibSp',\n",
       "       'Parch', 'Ticket', 'Fare', 'Cabin', 'Embarked'],\n",
       "      dtype='object')"
      ]
     },
     "execution_count": 5,
     "metadata": {},
     "output_type": "execute_result"
    }
   ],
   "source": [
    "df_train.columns"
   ]
  },
  {
   "cell_type": "code",
   "execution_count": 6,
   "metadata": {},
   "outputs": [
    {
     "data": {
      "text/plain": [
       "PassengerId      int64\n",
       "Survived         int64\n",
       "Pclass           int64\n",
       "Name            object\n",
       "Sex             object\n",
       "Age            float64\n",
       "SibSp            int64\n",
       "Parch            int64\n",
       "Ticket          object\n",
       "Fare           float64\n",
       "Cabin           object\n",
       "Embarked        object\n",
       "dtype: object"
      ]
     },
     "execution_count": 6,
     "metadata": {},
     "output_type": "execute_result"
    }
   ],
   "source": [
    "df_train.dtypes"
   ]
  },
  {
   "cell_type": "code",
   "execution_count": 7,
   "metadata": {},
   "outputs": [
    {
     "data": {
      "text/plain": [
       "(891, 12)"
      ]
     },
     "execution_count": 7,
     "metadata": {},
     "output_type": "execute_result"
    }
   ],
   "source": [
    "df_train.shape"
   ]
  },
  {
   "cell_type": "markdown",
   "metadata": {},
   "source": [
    "### What is the structure of your dataset?\n",
    "\n",
    "> This contains a total of 891 records with 12 feature sets which describe the data mainly.\n",
    "\n",
    "### What is/are the main feature(s) of interest in your dataset?\n",
    "\n",
    "> The dataset contains the following features in general: ['PassengerId', 'Survived', 'Pclass', 'Name', 'Sex', 'Age', 'SibSp', 'Parch', 'Ticket', 'Fare', 'Cabin', 'Embarked']  \n",
    "\n",
    "> In this case I think the main features which I should concentrate on are PassengerID, Survived, Pclass, Sex, Age, SibSp (this says the number of siblings/spouses abroad the titani), Parch (number of parents/children abroad the Titanic), fare, embarked.\n",
    "\n",
    "### What features in the dataset do you think will help support your investigation into your feature(s) of interest?\n",
    "\n",
    "> The reason for selecting each of the data features are described as follows:  \n",
    "1. PassengerId: To uniquely identify each passenger in the list  \n",
    "2. Survived: This would be absoulely important on which we would be doing the analysis ie. to see under what conditions a passenger survived.  \n",
    "3. pClass: This would be helpful because we can know if a particular pClass was affected the most  \n",
    "4. Sex: This would be similarly important to understand if it was difficult for any particular gender to survive the disaster.  \n",
    "5. Age: Similary, this would help in identifying which age group had a better chance of surviving.  \n",
    "6. SibSp: This would help us understand on whether having any sibling/spouse onboard affected in any way.  \n",
    "7. Parch: Similar to 6, this would help us understand whether having any parents onboard affected in any way.  \n",
    "8. Fare: This would help us understand on whether if a person invested largely on their tickets, then probably they were in a higher class (just a hunch) and would probably get more benefits and preferences (which is how the world basically works!)  \n",
    "9. Embarked: This would help in understanding whether at all the place of embarkment played any role. This feature can be dropped later on after analysis. If I find that this is not a significant feature and is not helping then I shall be dropping it. "
   ]
  },
  {
   "cell_type": "markdown",
   "metadata": {},
   "source": [
    "## Univariate Exploration\n",
    "\n",
    "> In this section, investigations are done on distributions of individual variables. If any unusual points or outliers are seen then those are noted down and a relationship between the independent variables are observed."
   ]
  },
  {
   "cell_type": "markdown",
   "metadata": {},
   "source": [
    "### Dropping the columns which are not required for this analysis. "
   ]
  },
  {
   "cell_type": "code",
   "execution_count": 8,
   "metadata": {},
   "outputs": [],
   "source": [
    "# now firt I shall be dropping the columns which I described above as the ones which are not needed for the analysis\n",
    "df_train.drop(['Name', 'Ticket', 'Cabin'], axis=1, inplace=True)"
   ]
  },
  {
   "cell_type": "code",
   "execution_count": 9,
   "metadata": {},
   "outputs": [
    {
     "name": "stdout",
     "output_type": "stream",
     "text": [
      "<class 'pandas.core.frame.DataFrame'>\n",
      "RangeIndex: 891 entries, 0 to 890\n",
      "Data columns (total 9 columns):\n",
      " #   Column       Non-Null Count  Dtype  \n",
      "---  ------       --------------  -----  \n",
      " 0   PassengerId  891 non-null    int64  \n",
      " 1   Survived     891 non-null    int64  \n",
      " 2   Pclass       891 non-null    int64  \n",
      " 3   Sex          891 non-null    object \n",
      " 4   Age          714 non-null    float64\n",
      " 5   SibSp        891 non-null    int64  \n",
      " 6   Parch        891 non-null    int64  \n",
      " 7   Fare         891 non-null    float64\n",
      " 8   Embarked     889 non-null    object \n",
      "dtypes: float64(2), int64(5), object(2)\n",
      "memory usage: 62.8+ KB\n"
     ]
    }
   ],
   "source": [
    "df_train.info()"
   ]
  },
  {
   "cell_type": "markdown",
   "metadata": {},
   "source": [
    "#### Looking at the columns which have null values"
   ]
  },
  {
   "cell_type": "code",
   "execution_count": 10,
   "metadata": {},
   "outputs": [
    {
     "name": "stdout",
     "output_type": "stream",
     "text": [
      "Columns with null values: \n",
      " Index(['Age', 'Embarked'], dtype='object')\n"
     ]
    }
   ],
   "source": [
    "# finding the columns which have duplicate values. (I am not going to look at the data manually and note them down)\n",
    "null_vals = df_train.columns[df_train.isnull().any()]\n",
    "print('Columns with null values: \\n', null_vals)"
   ]
  },
  {
   "cell_type": "markdown",
   "metadata": {},
   "source": [
    "#### Looking at data with duplicate values"
   ]
  },
  {
   "cell_type": "code",
   "execution_count": 11,
   "metadata": {},
   "outputs": [
    {
     "data": {
      "text/plain": [
       "False"
      ]
     },
     "execution_count": 11,
     "metadata": {},
     "output_type": "execute_result"
    }
   ],
   "source": [
    "df_train.duplicated().any()"
   ]
  },
  {
   "cell_type": "code",
   "execution_count": 12,
   "metadata": {},
   "outputs": [
    {
     "name": "stdout",
     "output_type": "stream",
     "text": [
      "Columns with duplicate values: \n",
      " []\n"
     ]
    }
   ],
   "source": [
    "dupli_vals = df_train.columns[df_train.duplicated().any()]\n",
    "print('Columns with duplicate values: \\n', dupli_vals)"
   ]
  },
  {
   "cell_type": "markdown",
   "metadata": {},
   "source": [
    "> So basically there are no duplicate values in the dataframe"
   ]
  },
  {
   "cell_type": "markdown",
   "metadata": {},
   "source": [
    "### Survival Counts"
   ]
  },
  {
   "cell_type": "markdown",
   "metadata": {},
   "source": [
    "#### Let us plot a pie chart to see the survival list"
   ]
  },
  {
   "cell_type": "code",
   "execution_count": 13,
   "metadata": {},
   "outputs": [
    {
     "data": {
      "text/plain": [
       "0    549\n",
       "1    342\n",
       "Name: Survived, dtype: int64"
      ]
     },
     "execution_count": 13,
     "metadata": {},
     "output_type": "execute_result"
    }
   ],
   "source": [
    "df_train['Survived'].value_counts() # looking at the type of values in the survived column"
   ]
  },
  {
   "cell_type": "markdown",
   "metadata": {},
   "source": [
    "> So I guess, 1 here stands for the people who survived and 0 are for the unfortunate ones."
   ]
  },
  {
   "cell_type": "code",
   "execution_count": 14,
   "metadata": {},
   "outputs": [],
   "source": [
    "# reusasble functions to plot pie charts:\n",
    "\n",
    "def ppie(pie_labels, pie_values):\n",
    "    fig = plt.figure(figsize =(9, 7)) \n",
    "    plt.pie(pie_values, labels = pie_labels);"
   ]
  },
  {
   "cell_type": "code",
   "execution_count": 15,
   "metadata": {},
   "outputs": [
    {
     "name": "stdout",
     "output_type": "stream",
     "text": [
      "Survived: ~62%\n",
      "Unfortunate ones: ~38%\n"
     ]
    },
    {
     "data": {
      "text/plain": [
       "Text(0.5, 1.0, 'Suvived vs Unfortunate ones')"
      ]
     },
     "execution_count": 15,
     "metadata": {},
     "output_type": "execute_result"
    },
    {
     "data": {
      "image/png": "[encoded data removed]",
      "text/plain": [
       "<Figure size 648x504 with 1 Axes>"
      ]
     },
     "metadata": {},
     "output_type": "display_data"
    }
   ],
   "source": [
    "total_passengers = df_train.shape[0] # cannot write 891 here. direct hardcoding is not good practice if guess\n",
    "\n",
    "temp_ls = list((df_train['Survived'].value_counts() / total_passengers) * 100)\n",
    "\n",
    "pie_vals = list()\n",
    "for val in temp_ls:\n",
    "    pie_vals.append(round(val)) #rounding up the values and putting them in a list for plotting.\n",
    "pie_labels = ['Survived', 'Unfortunate']\n",
    "print('Survived: ~{}%'.format(pie_vals[0]))\n",
    "print('Unfortunate ones: ~{}%'.format(pie_vals[1]))\n",
    "ppie(pie_labels, pie_vals)\n",
    "\n",
    "plt.title('Suvived vs Unfortunate ones')"
   ]
  },
  {
   "cell_type": "markdown",
   "metadata": {},
   "source": [
    "> So it seems like there was around 38% of passengers who could not survive this tragic accident. We have a majority survival count of around 62%."
   ]
  },
  {
   "cell_type": "markdown",
   "metadata": {},
   "source": [
    "### Fares in the dataset"
   ]
  },
  {
   "cell_type": "markdown",
   "metadata": {},
   "source": [
    "Another variable which we can look at is ` Fares `. Let us see how the fares were distributed. "
   ]
  },
  {
   "cell_type": "code",
   "execution_count": 16,
   "metadata": {},
   "outputs": [
    {
     "name": "stdout",
     "output_type": "stream",
     "text": [
      "There were 248 types of unique fares.\n"
     ]
    }
   ],
   "source": [
    "# how many unique kind of fares were there?\n",
    "print('There were {} types of unique fares.'.format(len(df_train.Fare.unique())))"
   ]
  },
  {
   "cell_type": "markdown",
   "metadata": {},
   "source": [
    "Ok. So there were 248 types of unique fares. Fair enough. I am now interested on the following things:\n",
    "1. Which was the most common fare?  \n",
    "2. Which was the most uncommon fare?  \n",
    "3. What is the fare range (min fare - max fare)?"
   ]
  },
  {
   "cell_type": "code",
   "execution_count": 17,
   "metadata": {},
   "outputs": [
    {
     "name": "stdout",
     "output_type": "stream",
     "text": [
      "The most common fare is:  8.05 with a count of:  43\n"
     ]
    }
   ],
   "source": [
    "# most common fares:\n",
    "from collections import Counter\n",
    "\n",
    "fare_counts = Counter(df_train['Fare'])\n",
    "\n",
    "# finding the most common fare:\n",
    "print('The most common fare is: ', fare_counts.most_common(1)[0][0], 'with a count of: ', fare_counts.most_common(1)[0][1])"
   ]
  },
  {
   "cell_type": "code",
   "execution_count": 18,
   "metadata": {},
   "outputs": [
    {
     "data": {
      "text/plain": [
       "[(8.05, 43), (13.0, 42), (7.8958, 38)]"
      ]
     },
     "execution_count": 18,
     "metadata": {},
     "output_type": "execute_result"
    }
   ],
   "source": [
    "# the top 3 most common fares:\n",
    "fare_counts.most_common(3)"
   ]
  },
  {
   "cell_type": "code",
   "execution_count": 19,
   "metadata": {},
   "outputs": [
    {
     "data": {
      "text/plain": [
       "Text(0.5, 0, 'Count')"
      ]
     },
     "execution_count": 19,
     "metadata": {},
     "output_type": "execute_result"
    },
    {
     "data": {
      "image/png": "[encoded data removed]",
      "text/plain": [
       "<Figure size 432x288 with 1 Axes>"
      ]
     },
     "metadata": {
      "needs_background": "light"
     },
     "output_type": "display_data"
    }
   ],
   "source": [
    "# we can plot a scatter chart to see the distribution of the fares\n",
    "fares = list(fare_counts.keys())\n",
    "each_count = list(fare_counts.values())\n",
    "plt.scatter(x=each_count, y=fares)\n",
    "plt.title('Distribution of Fares')\n",
    "plt.ylabel('Fare')\n",
    "plt.xlabel('Count')"
   ]
  },
  {
   "cell_type": "markdown",
   "metadata": {},
   "source": [
    "> Looks like there's someone who payed around 500 for a single ticket! Looking at the max value would help us verify that."
   ]
  },
  {
   "cell_type": "markdown",
   "metadata": {},
   "source": [
    "> Considering the above scatter plot, although one can argue that paying 512 bucks back in 1912 was absolutely absurd, but its true. In this case this can be considered as the perfect outlier for the 'fares' column. Only out of curiosity I Just want to check which class this individual belongs to. "
   ]
  },
  {
   "cell_type": "code",
   "execution_count": 20,
   "metadata": {},
   "outputs": [
    {
     "name": "stdout",
     "output_type": "stream",
     "text": [
      "Maximum amount payed for a ticket: 512.3292\n"
     ]
    }
   ],
   "source": [
    "# finding the maximum that anyone payed for a ticket\n",
    "print('Maximum amount payed for a ticket: {}'.format(max(fares)))"
   ]
  },
  {
   "cell_type": "code",
   "execution_count": 21,
   "metadata": {},
   "outputs": [
    {
     "data": {
      "text/plain": [
       "3    491\n",
       "1    216\n",
       "2    184\n",
       "Name: Pclass, dtype: int64"
      ]
     },
     "execution_count": 21,
     "metadata": {},
     "output_type": "execute_result"
    }
   ],
   "source": [
    "df_train.Pclass.value_counts()"
   ]
  },
  {
   "cell_type": "markdown",
   "metadata": {},
   "source": [
    "> Maximum fare: 512.3292. Mimum is 0. Looks like someone was travelling for free!"
   ]
  },
  {
   "cell_type": "markdown",
   "metadata": {},
   "source": [
    "> Just wanted to see how many classes there were. Will do a detailed analysis of the classes just after this fare analyisis."
   ]
  },
  {
   "cell_type": "code",
   "execution_count": 22,
   "metadata": {},
   "outputs": [
    {
     "data": {
      "text/html": [
       "<div>\n",
       "<style scoped>\n",
       "    .dataframe tbody tr th:only-of-type {\n",
       "        vertical-align: middle;\n",
       "    }\n",
       "\n",
       "    .dataframe tbody tr th {\n",
       "        vertical-align: top;\n",
       "    }\n",
       "\n",
       "    .dataframe thead th {\n",
       "        text-align: right;\n",
       "    }\n",
       "</style>\n",
       "<table border=\"1\" class=\"dataframe\">\n",
       "  <thead>\n",
       "    <tr style=\"text-align: right;\">\n",
       "      <th></th>\n",
       "      <th>PassengerId</th>\n",
       "      <th>Survived</th>\n",
       "      <th>Pclass</th>\n",
       "      <th>Sex</th>\n",
       "      <th>Age</th>\n",
       "      <th>SibSp</th>\n",
       "      <th>Parch</th>\n",
       "      <th>Fare</th>\n",
       "      <th>Embarked</th>\n",
       "    </tr>\n",
       "  </thead>\n",
       "  <tbody>\n",
       "    <tr>\n",
       "      <th>258</th>\n",
       "      <td>259</td>\n",
       "      <td>1</td>\n",
       "      <td>1</td>\n",
       "      <td>female</td>\n",
       "      <td>35.0</td>\n",
       "      <td>0</td>\n",
       "      <td>0</td>\n",
       "      <td>512.3292</td>\n",
       "      <td>C</td>\n",
       "    </tr>\n",
       "    <tr>\n",
       "      <th>679</th>\n",
       "      <td>680</td>\n",
       "      <td>1</td>\n",
       "      <td>1</td>\n",
       "      <td>male</td>\n",
       "      <td>36.0</td>\n",
       "      <td>0</td>\n",
       "      <td>1</td>\n",
       "      <td>512.3292</td>\n",
       "      <td>C</td>\n",
       "    </tr>\n",
       "    <tr>\n",
       "      <th>737</th>\n",
       "      <td>738</td>\n",
       "      <td>1</td>\n",
       "      <td>1</td>\n",
       "      <td>male</td>\n",
       "      <td>35.0</td>\n",
       "      <td>0</td>\n",
       "      <td>0</td>\n",
       "      <td>512.3292</td>\n",
       "      <td>C</td>\n",
       "    </tr>\n",
       "  </tbody>\n",
       "</table>\n",
       "</div>"
      ],
      "text/plain": [
       "     PassengerId  Survived  Pclass     Sex   Age  SibSp  Parch      Fare  \\\n",
       "258          259         1       1  female  35.0      0      0  512.3292   \n",
       "679          680         1       1    male  36.0      0      1  512.3292   \n",
       "737          738         1       1    male  35.0      0      0  512.3292   \n",
       "\n",
       "    Embarked  \n",
       "258        C  \n",
       "679        C  \n",
       "737        C  "
      ]
     },
     "execution_count": 22,
     "metadata": {},
     "output_type": "execute_result"
    }
   ],
   "source": [
    "df_train[df_train['Fare'] > 500]"
   ]
  },
  {
   "cell_type": "markdown",
   "metadata": {},
   "source": [
    "> Ok, so now we can see there were 3 such people who paid an amount greater than 512 for their voyage. It looks like they all belonged to the first class (Pclass = 1), which also makes perfect sense."
   ]
  },
  {
   "cell_type": "markdown",
   "metadata": {},
   "source": [
    "### Passenger Classes in the dataset"
   ]
  },
  {
   "cell_type": "code",
   "execution_count": 23,
   "metadata": {},
   "outputs": [
    {
     "data": {
      "text/plain": [
       "3    491\n",
       "1    216\n",
       "2    184\n",
       "Name: Pclass, dtype: int64"
      ]
     },
     "execution_count": 23,
     "metadata": {},
     "output_type": "execute_result"
    }
   ],
   "source": [
    "df_train.Pclass.value_counts()"
   ]
  },
  {
   "cell_type": "code",
   "execution_count": 24,
   "metadata": {},
   "outputs": [
    {
     "data": {
      "text/plain": [
       "Text(0.5, 1.0, 'Distribution of Passenger Classes')"
      ]
     },
     "execution_count": 24,
     "metadata": {},
     "output_type": "execute_result"
    },
    {
     "data": {
      "image/png": "[encoded data removed]",
      "text/plain": [
       "<Figure size 648x504 with 1 Axes>"
      ]
     },
     "metadata": {},
     "output_type": "display_data"
    }
   ],
   "source": [
    "# looking at the distribution of the data\n",
    "pClasses = Counter(df_train['Pclass'])\n",
    "class_vals_int = list(pClasses.keys())\n",
    "\n",
    "# creating the data list for pie chart\n",
    "class_vals = list()\n",
    "for cl in class_vals_int:\n",
    "    if cl == 1:\n",
    "        class_vals.append('First Class')\n",
    "    elif cl == 2:\n",
    "        class_vals.append('Second Class')\n",
    "    elif cl == 3:\n",
    "        class_vals.append('General Class')\n",
    "    else:\n",
    "        continue # ignoring if there were null values. Good to  have a safe ground in case there are values other than 1, 2, 3\n",
    "class_counts = list(pClasses.values())\n",
    "\n",
    "#plotting a pie chart to show the distribution\n",
    "pie_labels = class_vals\n",
    "ppie(pie_labels, class_counts)\n",
    "\n",
    "plt.title('Distribution of Passenger Classes')"
   ]
  },
  {
   "cell_type": "code",
   "execution_count": 25,
   "metadata": {},
   "outputs": [
    {
     "data": {
      "text/plain": [
       "[(3, 491), (1, 216), (2, 184)]"
      ]
     },
     "execution_count": 25,
     "metadata": {},
     "output_type": "execute_result"
    }
   ],
   "source": [
    "# verifying the most common class again:\n",
    "pClasses.most_common()"
   ]
  },
  {
   "cell_type": "markdown",
   "metadata": {},
   "source": [
    "> So finally we can see that the most common class in the ship was the general class. Followed by first class and thereby second class."
   ]
  },
  {
   "cell_type": "markdown",
   "metadata": {},
   "source": [
    "### Looking at the genders"
   ]
  },
  {
   "cell_type": "code",
   "execution_count": 26,
   "metadata": {},
   "outputs": [
    {
     "data": {
      "text/plain": [
       "Text(0.5, 1.0, 'Distribution of genders')"
      ]
     },
     "execution_count": 26,
     "metadata": {},
     "output_type": "execute_result"
    },
    {
     "data": {
      "image/png": "[encoded data removed]",
      "text/plain": [
       "<Figure size 648x504 with 1 Axes>"
      ]
     },
     "metadata": {},
     "output_type": "display_data"
    }
   ],
   "source": [
    "# looking at the distribution of the data\n",
    "genders = Counter(df_train['Sex'])\n",
    "\n",
    "#plotting a pie chart to show the distribution\n",
    "ppie(genders.keys(), genders.values())\n",
    "\n",
    "plt.title('Distribution of genders')"
   ]
  },
  {
   "cell_type": "markdown",
   "metadata": {},
   "source": [
    "> So there were more males than females in the ship. "
   ]
  },
  {
   "cell_type": "markdown",
   "metadata": {},
   "source": [
    "### What percentage of people had siblings/spouces?"
   ]
  },
  {
   "cell_type": "code",
   "execution_count": 27,
   "metadata": {},
   "outputs": [
    {
     "data": {
      "text/plain": [
       "0    608\n",
       "1    209\n",
       "2     28\n",
       "4     18\n",
       "3     16\n",
       "8      7\n",
       "5      5\n",
       "Name: SibSp, dtype: int64"
      ]
     },
     "execution_count": 27,
     "metadata": {},
     "output_type": "execute_result"
    }
   ],
   "source": [
    "df_train['SibSp'].value_counts()"
   ]
  },
  {
   "cell_type": "code",
   "execution_count": 28,
   "metadata": {},
   "outputs": [
    {
     "data": {
      "text/plain": [
       "Text(0, 0.5, 'Count of passengers with sibligs')"
      ]
     },
     "execution_count": 28,
     "metadata": {},
     "output_type": "execute_result"
    },
    {
     "data": {
      "image/png": "[encoded data removed]",
      "text/plain": [
       "<Figure size 432x288 with 1 Axes>"
      ]
     },
     "metadata": {
      "needs_background": "light"
     },
     "output_type": "display_data"
    }
   ],
   "source": [
    "# plotting a scatter for the same\n",
    "sibSp = Counter(df_train['SibSp'])\n",
    "plt.scatter(x=sibSp.keys(), y=sibSp.values())\n",
    "plt.title('Scatter plot with count of Sibling/Spouses')\n",
    "plt.xlabel('Count of Siblings')\n",
    "plt.ylabel('Count of passengers with sibligs')"
   ]
  },
  {
   "cell_type": "markdown",
   "metadata": {},
   "source": [
    "> It seems like most of the values are in the zero range. Hence most of the people who boarded the train did not have any siblings/spouces along with them. We can look at the most common values too. "
   ]
  },
  {
   "cell_type": "code",
   "execution_count": 29,
   "metadata": {},
   "outputs": [
    {
     "data": {
      "text/plain": [
       "[(0, 608), (1, 209), (2, 28), (4, 18), (3, 16), (8, 7), (5, 5)]"
      ]
     },
     "execution_count": 29,
     "metadata": {},
     "output_type": "execute_result"
    }
   ],
   "source": [
    "sibSp.most_common()"
   ]
  },
  {
   "cell_type": "markdown",
   "metadata": {},
   "source": [
    "#### Finally finding out the *percentage* of people who had siblings/spouces while boarding"
   ]
  },
  {
   "cell_type": "code",
   "execution_count": 30,
   "metadata": {},
   "outputs": [
    {
     "name": "stdout",
     "output_type": "stream",
     "text": [
      "Total number of people who boarded with siblings/spouces: 283\n",
      "Percentage of people who boarded with siblings/spouces: 31.76%\n"
     ]
    }
   ],
   "source": [
    "total_sibsp = 0\n",
    "for x in sibSp:\n",
    "    if (x > 0):\n",
    "       total_sibsp += sibSp.get(x)\n",
    "\n",
    "print('Total number of people who boarded with siblings/spouces: {}'.format(total_sibsp))\n",
    "print('Percentage of people who boarded with siblings/spouces: {:.2f}%'.format((total_sibsp/total_passengers) * 100))"
   ]
  },
  {
   "cell_type": "markdown",
   "metadata": {},
   "source": [
    "> There were 31.76% of people who boarded with their siblings / spouces."
   ]
  },
  {
   "cell_type": "markdown",
   "metadata": {},
   "source": [
    "### What percentage of people had parents?"
   ]
  },
  {
   "cell_type": "code",
   "execution_count": 31,
   "metadata": {},
   "outputs": [
    {
     "data": {
      "text/plain": [
       "0    678\n",
       "1    118\n",
       "2     80\n",
       "5      5\n",
       "3      5\n",
       "4      4\n",
       "6      1\n",
       "Name: Parch, dtype: int64"
      ]
     },
     "execution_count": 31,
     "metadata": {},
     "output_type": "execute_result"
    }
   ],
   "source": [
    "df_train['Parch'].value_counts()"
   ]
  },
  {
   "cell_type": "code",
   "execution_count": 32,
   "metadata": {},
   "outputs": [
    {
     "data": {
      "text/plain": [
       "Text(0, 0.5, 'Passenger count with parents')"
      ]
     },
     "execution_count": 32,
     "metadata": {},
     "output_type": "execute_result"
    },
    {
     "data": {
      "image/png": "[encoded data removed]",
      "text/plain": [
       "<Figure size 432x288 with 1 Axes>"
      ]
     },
     "metadata": {
      "needs_background": "light"
     },
     "output_type": "display_data"
    }
   ],
   "source": [
    "# plotting a scatter for the same\n",
    "parch = Counter(df_train['Parch'])\n",
    "plt.scatter(x=parch.keys(), y=parch.values())\n",
    "plt.title('Scatter plot passengers with parents')\n",
    "plt.xlabel('Parents count')\n",
    "plt.ylabel('Passenger count with parents')"
   ]
  },
  {
   "cell_type": "code",
   "execution_count": 33,
   "metadata": {},
   "outputs": [
    {
     "data": {
      "text/plain": [
       "[(0, 678), (1, 118), (2, 80), (5, 5), (3, 5), (4, 4), (6, 1)]"
      ]
     },
     "execution_count": 33,
     "metadata": {},
     "output_type": "execute_result"
    }
   ],
   "source": [
    "parch.most_common()"
   ]
  },
  {
   "cell_type": "code",
   "execution_count": 34,
   "metadata": {},
   "outputs": [
    {
     "name": "stdout",
     "output_type": "stream",
     "text": [
      "Total number of people who boarded with their parents: 213\n",
      "Percentage of people who boarded with their parents: 23.91%\n"
     ]
    }
   ],
   "source": [
    "total_parch = 0\n",
    "for x in parch:\n",
    "    if (x > 0):\n",
    "       total_parch += parch.get(x)\n",
    "\n",
    "print('Total number of people who boarded with their parents: {}'.format(total_parch))\n",
    "print('Percentage of people who boarded with their parents: {:.2f}%'.format((total_parch/total_passengers) * 100))"
   ]
  },
  {
   "cell_type": "markdown",
   "metadata": {},
   "source": [
    "> There were 31.76% of people who boarded with their siblings / spouces."
   ]
  },
  {
   "cell_type": "markdown",
   "metadata": {},
   "source": [
    "### Looking at the column 'Embarked'"
   ]
  },
  {
   "cell_type": "code",
   "execution_count": 35,
   "metadata": {},
   "outputs": [
    {
     "data": {
      "text/plain": [
       "S    644\n",
       "C    168\n",
       "Q     77\n",
       "Name: Embarked, dtype: int64"
      ]
     },
     "execution_count": 35,
     "metadata": {},
     "output_type": "execute_result"
    }
   ],
   "source": [
    "df_train['Embarked'].value_counts()"
   ]
  },
  {
   "cell_type": "code",
   "execution_count": 36,
   "metadata": {},
   "outputs": [
    {
     "name": "stdout",
     "output_type": "stream",
     "text": [
      "There are  2  null values\n"
     ]
    },
    {
     "data": {
      "text/plain": [
       "False"
      ]
     },
     "execution_count": 36,
     "metadata": {},
     "output_type": "execute_result"
    }
   ],
   "source": [
    "# looking at the data descriptions, I know: C = Cherbourg, Q = Queenstown, S = Southampton\n",
    "# changing the plot accordingly and removing the null values after checking how many there are\n",
    "\n",
    "# checking the number of null values \n",
    "print('There are ', df_train['Embarked'].isnull().sum(), ' null values')\n",
    "\n",
    "#dropping the null values\n",
    "df_train['Embarked'].dropna(inplace=True)\n",
    "\n",
    "df_train['Embarked'].isnull().any()"
   ]
  },
  {
   "cell_type": "code",
   "execution_count": 37,
   "metadata": {},
   "outputs": [
    {
     "data": {
      "text/plain": [
       "Text(0.5, 1.0, 'Distribution of embarked cities')"
      ]
     },
     "execution_count": 37,
     "metadata": {},
     "output_type": "execute_result"
    },
    {
     "data": {
      "image/png": "[encoded data removed]",
      "text/plain": [
       "<Figure size 648x504 with 1 Axes>"
      ]
     },
     "metadata": {},
     "output_type": "display_data"
    }
   ],
   "source": [
    "embks = Counter(df_train['Embarked'])\n",
    "labels = list()\n",
    "for val in embks.keys():\n",
    "    if val == 'S':\n",
    "        labels.append('Southampton')\n",
    "    elif val == 'C':\n",
    "        labels.append('Cherbourg')\n",
    "    elif val == 'Q':\n",
    "        labels.append('Queenstown')\n",
    "        \n",
    "ppie(labels, embks.values())\n",
    "\n",
    "plt.title('Distribution of embarked cities')"
   ]
  },
  {
   "cell_type": "markdown",
   "metadata": {},
   "source": [
    "> So most of the people boarded from Southhampton"
   ]
  },
  {
   "cell_type": "code",
   "execution_count": 38,
   "metadata": {},
   "outputs": [
    {
     "data": {
      "text/plain": [
       "<matplotlib.axes._subplots.AxesSubplot at 0x7feb8a544b70>"
      ]
     },
     "execution_count": 38,
     "metadata": {},
     "output_type": "execute_result"
    },
    {
     "data": {
      "image/png": "[encoded data removed]",
      "text/plain": [
       "<Figure size 1224x576 with 8 Axes>"
      ]
     },
     "metadata": {
      "needs_background": "light"
     },
     "output_type": "display_data"
    }
   ],
   "source": [
    "ig, axes = plt.subplots(2, 4, figsize = (17, 8))\n",
    "\n",
    "sns.countplot('Survived', data = df_train, ax = axes[0,0])\n",
    "sns.countplot('Pclass', data = df_train, ax = axes[0,1])\n",
    "sns.countplot('Sex', data = df_train,ax = axes[0,2])\n",
    "sns.countplot('SibSp', data = df_train, ax = axes[0,3])\n",
    "sns.countplot('Parch', data = df_train, ax = axes[1,0])\n",
    "sns.countplot('Embarked', data = df_train, ax = axes[1,1])\n",
    "sns.distplot(df_train['Fare'], kde = True, ax = axes[1,2])\n",
    "sns.distplot(df_train['Age'].dropna(), kde = True, ax = axes[1,3])"
   ]
  },
  {
   "cell_type": "markdown",
   "metadata": {},
   "source": [
    "> This final graph shows a combined vizualization of all the individual features and their distributions. "
   ]
  },
  {
   "cell_type": "markdown",
   "metadata": {},
   "source": [
    "## Bivariate Exploration\n",
    "\n",
    "> In this section, investigations are done to find out the relationships between pairs of variables in the\n",
    "data."
   ]
  },
  {
   "cell_type": "markdown",
   "metadata": {},
   "source": [
    "Now, since our main motivation is to analyze the data based on the number of people who survived the incident, I would like to go for a bivariate anlysis which would show the following relationships:  \n",
    "\n",
    "1. survived vs pclass\n",
    "2. survived vs sex\n",
    "3. survived vs sibsp\n",
    "4. survived vs parch\n",
    "5. survived vs fare\n",
    "6. survived vs age\n",
    "\n",
    "These 'vs' suggests nothing but how the second feature is related with the number of people who survived. Eg. Can we analyse something from the gender an individual had? Does it mean that a particular category of gender had better chances of survival than the other one and so on."
   ]
  },
  {
   "cell_type": "markdown",
   "metadata": {},
   "source": [
    "### Survived vs Pclass"
   ]
  },
  {
   "cell_type": "code",
   "execution_count": 39,
   "metadata": {},
   "outputs": [
    {
     "data": {
      "text/plain": [
       "Text(0.5, 0, 'Survival Average')"
      ]
     },
     "execution_count": 39,
     "metadata": {},
     "output_type": "execute_result"
    },
    {
     "data": {
      "image/png": "[encoded data removed]",
      "text/plain": [
       "<Figure size 432x288 with 1 Axes>"
      ]
     },
     "metadata": {
      "needs_background": "light"
     },
     "output_type": "display_data"
    }
   ],
   "source": [
    "# taking the mean of the people who survived according to their classes. \n",
    "df_train.groupby('Pclass')['Survived'].mean().plot(kind='barh')\n",
    "plt.title('Passenger class vs Survival')\n",
    "plt.ylabel('Passenger Class')\n",
    "plt.xlabel('Survival Average')"
   ]
  },
  {
   "cell_type": "markdown",
   "metadata": {},
   "source": [
    "> This shows that if you belonged to the first class then you had a better chance of survival. The better class you were on the better chances there were of survival. Which does make sense. "
   ]
  },
  {
   "cell_type": "markdown",
   "metadata": {},
   "source": [
    "### Survived vs Gender"
   ]
  },
  {
   "cell_type": "code",
   "execution_count": 40,
   "metadata": {},
   "outputs": [
    {
     "data": {
      "text/plain": [
       "Text(0.5, 0, 'Survival Average')"
      ]
     },
     "execution_count": 40,
     "metadata": {},
     "output_type": "execute_result"
    },
    {
     "data": {
      "image/png": "[encoded data removed]",
      "text/plain": [
       "<Figure size 432x288 with 1 Axes>"
      ]
     },
     "metadata": {
      "needs_background": "light"
     },
     "output_type": "display_data"
    }
   ],
   "source": [
    "# taking the mean of the people who survived according to their genders. \n",
    "df_train.groupby('Sex')['Survived'].mean().plot(kind='barh')\n",
    "plt.title('Survival vs Gender')\n",
    "plt.ylabel('Genders')\n",
    "plt.xlabel('Survival Average')"
   ]
  },
  {
   "cell_type": "markdown",
   "metadata": {},
   "source": [
    "> This shows that there were better chances of survival if you were a female. "
   ]
  },
  {
   "cell_type": "markdown",
   "metadata": {},
   "source": [
    "### Survival chances with a sibling or spouse"
   ]
  },
  {
   "cell_type": "code",
   "execution_count": 41,
   "metadata": {},
   "outputs": [
    {
     "data": {
      "text/plain": [
       "Text(0.5, 0, 'Survival Average')"
      ]
     },
     "execution_count": 41,
     "metadata": {},
     "output_type": "execute_result"
    },
    {
     "data": {
      "image/png": "[encoded data removed]",
      "text/plain": [
       "<Figure size 432x288 with 1 Axes>"
      ]
     },
     "metadata": {
      "needs_background": "light"
     },
     "output_type": "display_data"
    }
   ],
   "source": [
    "# taking the mean of the people who survived if they boarded with a sibling or spouse. \n",
    "df_train.groupby('SibSp')['Survived'].mean().plot(kind='barh')\n",
    "plt.title('Survival based on Siblings/Spouses onboard')\n",
    "plt.ylabel('Siblings/Spouses Onboard')\n",
    "plt.xlabel('Survival Average')"
   ]
  },
  {
   "cell_type": "markdown",
   "metadata": {},
   "source": [
    "> This shows that people who had a either 1 or 2 siblings/spouses onboard with them had a better chance of survival."
   ]
  },
  {
   "cell_type": "markdown",
   "metadata": {},
   "source": [
    "### Survival chances with a parent onboard"
   ]
  },
  {
   "cell_type": "code",
   "execution_count": 42,
   "metadata": {},
   "outputs": [
    {
     "data": {
      "text/plain": [
       "Text(0.5, 0, 'Survival Average')"
      ]
     },
     "execution_count": 42,
     "metadata": {},
     "output_type": "execute_result"
    },
    {
     "data": {
      "image/png": "[encoded data removed]",
      "text/plain": [
       "<Figure size 432x288 with 1 Axes>"
      ]
     },
     "metadata": {
      "needs_background": "light"
     },
     "output_type": "display_data"
    }
   ],
   "source": [
    "# taking the mean of the people who survived if they boarded with a parent. \n",
    "df_train.groupby('Parch')['Survived'].mean().plot(kind='barh')\n",
    "plt.title('Survival based on Parents onboard')\n",
    "plt.ylabel('Parents Onboard')\n",
    "plt.xlabel('Survival Average')"
   ]
  },
  {
   "cell_type": "markdown",
   "metadata": {},
   "source": [
    "> This is a bit weird I don't understnad how someone can have upto 5 or 6 parents. Nevertheless, I guess they are considering people who are in direct blood relationship with someone in the 'Parch' category, like uncles or aunts. So under these circustances from the above chart we can see that individuals onboarding with 3 parents had a better chance of survival followed by the ones boarding with 1 and then 2."
   ]
  },
  {
   "cell_type": "markdown",
   "metadata": {},
   "source": [
    "### Survival chances vs Fares given"
   ]
  },
  {
   "cell_type": "code",
   "execution_count": 43,
   "metadata": {},
   "outputs": [
    {
     "data": {
      "text/plain": [
       "Text(0.5, 0, 'Survival Average')"
      ]
     },
     "execution_count": 43,
     "metadata": {},
     "output_type": "execute_result"
    },
    {
     "data": {
      "image/png": "[encoded data removed]",
      "text/plain": [
       "<Figure size 432x288 with 1 Axes>"
      ]
     },
     "metadata": {
      "needs_background": "light"
     },
     "output_type": "display_data"
    }
   ],
   "source": [
    "# let us plot a boxplot here, otherwise bar charts would not be able to render 248 values of fares.\n",
    "sns.boxplot(x = \"Survived\", y = \"Fare\", data = df_train)\n",
    "plt.title('Survived vs Fare')\n",
    "plt.ylabel('Fares')\n",
    "plt.xlabel('Survival Average')"
   ]
  },
  {
   "cell_type": "markdown",
   "metadata": {},
   "source": [
    "> Of couse those few people paying that 512 bucks survived!  \n",
    "Other than that it seems like higher you paid, a slight higher were the chances of you surviving.  \n",
    "For the people who survived the fares ranged from 0 to all the way 512, with the IQR of around 10-55.  \n",
    "For the unfortunate ones the fares ranged from 0 to around 290 with an IQR or around 10-30."
   ]
  },
  {
   "cell_type": "markdown",
   "metadata": {},
   "source": [
    "### Survival vs Age"
   ]
  },
  {
   "cell_type": "code",
   "execution_count": 44,
   "metadata": {},
   "outputs": [
    {
     "data": {
      "text/plain": [
       "Text(0.5, 0, 'Survival Average')"
      ]
     },
     "execution_count": 44,
     "metadata": {},
     "output_type": "execute_result"
    },
    {
     "data": {
      "image/png": "[encoded data removed]",
      "text/plain": [
       "<Figure size 432x288 with 1 Axes>"
      ]
     },
     "metadata": {
      "needs_background": "light"
     },
     "output_type": "display_data"
    }
   ],
   "source": [
    "# similar with ages, Box plots would be a better mode to visualize these\n",
    "sns.boxplot(x = \"Survived\", y = \"Age\", data = df_train)\n",
    "plt.title('Survived vs Age')\n",
    "plt.ylabel('Age')\n",
    "plt.xlabel('Survival Average')"
   ]
  },
  {
   "cell_type": "markdown",
   "metadata": {},
   "source": [
    "> It seems like people who were fortunate enough were on the age group of 0-80 with the IQR around 20-38. And for the unfortunate ones they were almost in a similar age group: around 0-77, with the IQR of around 20-40."
   ]
  },
  {
   "cell_type": "code",
   "execution_count": 45,
   "metadata": {},
   "outputs": [
    {
     "data": {
      "image/png": "[encoded data removed]",
      "text/plain": [
       "<Figure size 432x432 with 3 Axes>"
      ]
     },
     "metadata": {
      "needs_background": "light"
     },
     "output_type": "display_data"
    }
   ],
   "source": [
    "# let me just check if ages and fares were co-related in any way. We can go with a jointplot. \n",
    "# I'll be using a hex plot here, to show the correlations better.\n",
    "\n",
    "sns.jointplot(\"Age\", \"Fare\", data = df_train, kind='hex');"
   ]
  },
  {
   "cell_type": "markdown",
   "metadata": {},
   "source": [
    "Ok, so from the above plot we can see that the age groups around 20-30 has a strong correlation with the fare range of around 30 I guess. "
   ]
  },
  {
   "cell_type": "markdown",
   "metadata": {},
   "source": [
    "## Multivariate Exploration\n",
    "\n",
    "> In this section, investigations are done to find out the relationships between multiple variables in the\n",
    "data."
   ]
  },
  {
   "cell_type": "markdown",
   "metadata": {},
   "source": [
    "Constructing a Coorelation matrix to show the heatmaps of the values which are of integer (int64) and float (float64) types."
   ]
  },
  {
   "cell_type": "code",
   "execution_count": 46,
   "metadata": {},
   "outputs": [
    {
     "data": {
      "text/plain": [
       "Text(0.5, 1.0, 'Heatmap to show the coorelation betewen the different features')"
      ]
     },
     "execution_count": 46,
     "metadata": {},
     "output_type": "execute_result"
    },
    {
     "data": {
      "image/png": "[encoded data removed]",
      "text/plain": [
       "<Figure size 792x648 with 2 Axes>"
      ]
     },
     "metadata": {
      "needs_background": "light"
     },
     "output_type": "display_data"
    }
   ],
   "source": [
    "fig, cust_axis = plt.subplots(figsize=(11, 9))\n",
    "\n",
    "multi_corr = df_train.corr()\n",
    "\n",
    "sns.heatmap(multi_corr,\n",
    "            mask   = np.zeros_like(multi_corr, dtype = np.bool), \n",
    "            cmap   = sns.diverging_palette(225, 112, as_cmap = True),\n",
    "            square = False, \n",
    "            ax     = cust_axis)\n",
    "plt.title('Heatmap to show the coorelation betewen the different features')"
   ]
  },
  {
   "cell_type": "markdown",
   "metadata": {},
   "source": [
    "From the above heatmap we can conclude the following:\n",
    "\n",
    "1. There is a positve coorelation between the fares and the number of people who survived.  \n",
    "2. There is a negative coorelation between the passenger class and the number of people who surived.\n",
    "3. There is a negative coorelation between the fares and the passenger class. \n",
    "4. There is also a negative coorelation between the ages and the passenger classes."
   ]
  }
 ],
 "metadata": {
  "kernelspec": {
   "display_name": "Python 3",
   "language": "python",
   "name": "python3"
  },
  "language_info": {
   "codemirror_mode": {
    "name": "ipython",
    "version": 3
   },
   "file_extension": ".py",
   "mimetype": "text/x-python",
   "name": "python",
   "nbconvert_exporter": "python",
   "pygments_lexer": "ipython3",
   "version": "3.6.9"
  }
 },
 "nbformat": 4,
 "nbformat_minor": 2
}
